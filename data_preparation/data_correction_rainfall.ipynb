{
 "cells": [
  {
   "cell_type": "code",
   "execution_count": 1,
   "metadata": {},
   "outputs": [],
   "source": [
    "# !pip install pandas\n",
    "\n",
    "import pandas as pd\n",
    "import numpy as np"
   ]
  },
  {
   "cell_type": "code",
   "execution_count": 2,
   "metadata": {},
   "outputs": [
    {
     "name": "stdout",
     "output_type": "stream",
     "text": [
      "         Date  Hour Hourly rainfall value\n",
      "0  2024-04-15     0                     0\n",
      "1  2024-04-15     1                     0\n",
      "2  2024-04-15     2                     0\n",
      "3  2024-04-15     3                     0\n",
      "4  2024-04-15     4                     0\n",
      "5  2024-04-15     5                     0\n",
      "6  2024-04-15     7                     0\n",
      "7  2024-04-15     7                     0\n",
      "8  2024-04-15     8                     0\n",
      "9  2024-04-15     9                     0\n",
      "(4901, 3)\n",
      "initial df shape :  (4901, 3)\n"
     ]
    }
   ],
   "source": [
    "# Load the CSV file\n",
    "file_path = \"HydroMet Data/FINAL/DhapDamRainfalFinal.csv\"  # Replace with the actual file path\n",
    "df = pd.read_csv(file_path)\n",
    "\n",
    "print(df.head(10))\n",
    "print(df.shape)\n",
    "print(\"initial df shape : \",df.shape)"
   ]
  },
  {
   "cell_type": "code",
   "execution_count": 3,
   "metadata": {},
   "outputs": [
    {
     "name": "stdout",
     "output_type": "stream",
     "text": [
      "DUPLICATES 50\n",
      "df shape after removing duplicates: (4851, 3)\n"
     ]
    }
   ],
   "source": [
    "# Check for duplicates based on 'Full_date', 'Hour', and 'waterLevel'\n",
    "duplicates = df[df.duplicated(subset=['Date', 'Hour'])]\n",
    "\n",
    "# Get the number of duplicate rows\n",
    "num_duplicates = len(duplicates)\n",
    "print(\"DUPLICATES\",num_duplicates)\n",
    "df= df.drop_duplicates(subset=['Date', 'Hour'])\n",
    "\n",
    "print(\"df shape after removing duplicates:\", df.shape)\n",
    "# print(df.head(20))"
   ]
  },
  {
   "cell_type": "code",
   "execution_count": 4,
   "metadata": {},
   "outputs": [
    {
     "name": "stdout",
     "output_type": "stream",
     "text": [
      "Number of rows with '#VALUE!' in Full_date: 0\n",
      "(4851, 3)\n"
     ]
    }
   ],
   "source": [
    "# Find rows where Full_date contains the value \"#VALUE!\"\n",
    "invalid_rows = df[df['Date'] == \"#VALUE!\"]\n",
    "\n",
    "# Get the number of rows with the issue\n",
    "num_invalid_rows = len(invalid_rows)\n",
    "print(f\"Number of rows with '#VALUE!' in Full_date: {num_invalid_rows}\")\n",
    "\n",
    "df = df[df['Date'] != \"#VALUE!\"]\n",
    "print(df.shape)"
   ]
  },
  {
   "cell_type": "code",
   "execution_count": 5,
   "metadata": {},
   "outputs": [
    {
     "name": "stdout",
     "output_type": "stream",
     "text": [
      "Number of '-' values: 62\n"
     ]
    }
   ],
   "source": [
    "count_hyphen = (df['Hourly rainfall value'] == '-').sum()\n",
    "\n",
    "# Print the count\n",
    "print(f\"Number of '-' values: {count_hyphen}\")\n",
    "\n",
    "df['Hourly rainfall value'] = df['Hourly rainfall value'].replace('-', 0)\n"
   ]
  },
  {
   "cell_type": "code",
   "execution_count": 6,
   "metadata": {},
   "outputs": [
    {
     "name": "stdout",
     "output_type": "stream",
     "text": [
      "           Date  Hour Hourly rainfall value\n",
      "4841 2024-11-26    10                     0\n",
      "4842 2024-11-26    11                     0\n",
      "4843 2024-11-26    12                     0\n",
      "4844 2024-11-26    13                     0\n",
      "4845 2024-11-26    14                     0\n",
      "4846 2024-11-26    15                     0\n",
      "4847 2024-11-26    16                     0\n",
      "4848 2024-11-26    17                     0\n",
      "4849 2024-11-26    18                     0\n",
      "4850 2024-11-26    19                     0\n"
     ]
    }
   ],
   "source": [
    "# sort data based on date, hour and minute\n",
    "\n",
    "# Ensure the date column is in datetime format for correct sorting\n",
    "df['Date'] = pd.to_datetime(df['Date'], format='%Y-%m-%d')\n",
    "\n",
    "# Sort the data by Full_date, Hour, and Minute\n",
    "df_sorted = df.sort_values(by=['Date', 'Hour'], ascending=[True, True])\n",
    "\n",
    "# Reset index for a clean DataFrame\n",
    "df = df_sorted.reset_index(drop=True)\n",
    "\n",
    "print(df.tail(10))\n"
   ]
  },
  {
   "cell_type": "code",
   "execution_count": 7,
   "metadata": {},
   "outputs": [
    {
     "name": "stdout",
     "output_type": "stream",
     "text": [
      "           Date  Hour Hourly rainfall value\n",
      "0    2024-04-15     0                     0\n",
      "1    2024-04-15     1                     0\n",
      "2    2024-04-15     2                     0\n",
      "3    2024-04-15     3                     0\n",
      "4    2024-04-15     4                     0\n",
      "...         ...   ...                   ...\n",
      "5395 2024-11-25    19                     0\n",
      "5396 2024-11-25    20                     0\n",
      "5397 2024-11-25    21                     0\n",
      "5398 2024-11-25    22                     0\n",
      "5399 2024-11-25    23                     0\n",
      "\n",
      "[5400 rows x 3 columns]\n"
     ]
    }
   ],
   "source": [
    "# Ensure Date is in datetime format\n",
    "df['Date'] = pd.to_datetime(df['Date'])\n",
    "\n",
    "# Generate full range of dates (April to August)\n",
    "full_dates = pd.date_range(start='2024-04-15', end='2024-11-25', freq='D')\n",
    "\n",
    "# Generate all hours (0 to 23)\n",
    "hours = pd.DataFrame({'Hour': range(24)})\n",
    "\n",
    "# Create all combinations of dates and hours\n",
    "full_date_hour = pd.MultiIndex.from_product([full_dates, hours['Hour']], names=['Date', 'Hour']).to_frame(index=False)\n",
    "\n",
    "# Merge with existing data\n",
    "df_full = pd.merge(full_date_hour, df, on=['Date', 'Hour'], how='left')\n",
    "\n",
    "# Fill missing Hourly rainfall value with 0\n",
    "df_full['Hourly rainfall value'] = df_full['Hourly rainfall value'].fillna(0)\n",
    "\n",
    "# Print or save the final DataFrame\n",
    "print(df_full)"
   ]
  },
  {
   "cell_type": "code",
   "execution_count": 8,
   "metadata": {},
   "outputs": [
    {
     "name": "stdout",
     "output_type": "stream",
     "text": [
      "(5400, 3) shape after interpolation\n"
     ]
    }
   ],
   "source": [
    "# print(merged_df.head(25))\n",
    "print(df_full.shape,\"shape after interpolation\")\n",
    "\n",
    "df_full['DateTime'] = pd.to_datetime(df_full['Date'].dt.date.astype(str) + ' ' + df_full['Hour'].astype(str) + ':00')\n"
   ]
  },
  {
   "cell_type": "code",
   "execution_count": 9,
   "metadata": {},
   "outputs": [],
   "source": [
    "# Save the cleaned data back to a CSV file\n",
    "output_file_path = \"cleaned_rainfall_data_14_dec.csv\"  # Replace with desired output file path\n",
    "df_full.to_csv(output_file_path, index=False)"
   ]
  }
 ],
 "metadata": {
  "kernelspec": {
   "display_name": "spatial_simulation_env",
   "language": "python",
   "name": "python3"
  },
  "language_info": {
   "codemirror_mode": {
    "name": "ipython",
    "version": 3
   },
   "file_extension": ".py",
   "mimetype": "text/x-python",
   "name": "python",
   "nbconvert_exporter": "python",
   "pygments_lexer": "ipython3",
   "version": "3.11.10"
  }
 },
 "nbformat": 4,
 "nbformat_minor": 2
}
