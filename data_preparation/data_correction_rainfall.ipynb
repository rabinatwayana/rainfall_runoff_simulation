{
 "cells": [
  {
   "cell_type": "code",
   "execution_count": 5,
   "metadata": {},
   "outputs": [],
   "source": [
    "# !pip install pandas\n",
    "\n",
    "import pandas as pd\n",
    "import numpy as np"
   ]
  },
  {
   "cell_type": "code",
   "execution_count": 7,
   "metadata": {},
   "outputs": [
    {
     "name": "stdout",
     "output_type": "stream",
     "text": [
      "         Date  Hour Hourly rainfall value\n",
      "0  2022-09-15    18                     0\n",
      "1  2022-09-16     0                     1\n",
      "2  2022-09-16     1                     1\n",
      "3  2022-09-16     2                     1\n",
      "4  2022-09-16     4                     0\n",
      "5  2022-09-16     3                     1\n",
      "6  2022-09-16     5                     0\n",
      "7  2022-09-16     6                     1\n",
      "8  2022-09-16     7                     1\n",
      "9  2022-09-16     8                     1\n",
      "(14625, 3)\n",
      "initial df shape :  (14625, 3)\n"
     ]
    }
   ],
   "source": [
    "# Load the CSV file\n",
    "# file_path = \"HydroMet Data/FINAL/DhapDamRainfalFinal.csv\"  # Replace with the actual file path\n",
    "file_path = \"../Data Preparation/HydroMet Data/input/Sundarijal_rainfall_data_extract.csv\"  # Replace with the actual file path\n",
    "\n",
    "df = pd.read_csv(file_path)\n",
    "\n",
    "print(df.head(10))\n",
    "print(df.shape)\n",
    "print(\"initial df shape : \",df.shape)"
   ]
  },
  {
   "cell_type": "code",
   "execution_count": 8,
   "metadata": {},
   "outputs": [
    {
     "name": "stdout",
     "output_type": "stream",
     "text": [
      "DUPLICATES 246\n",
      "df shape after removing duplicates: (14379, 3)\n"
     ]
    }
   ],
   "source": [
    "# Check for duplicates based on 'Full_date', 'Hour', and 'waterLevel'\n",
    "duplicates = df[df.duplicated(subset=['Date', 'Hour'])]\n",
    "\n",
    "# Get the number of duplicate rows\n",
    "num_duplicates = len(duplicates)\n",
    "print(\"DUPLICATES\",num_duplicates)\n",
    "df= df.drop_duplicates(subset=['Date', 'Hour'])\n",
    "\n",
    "print(\"df shape after removing duplicates:\", df.shape)\n",
    "# print(df.head(20))"
   ]
  },
  {
   "cell_type": "code",
   "execution_count": 9,
   "metadata": {},
   "outputs": [
    {
     "name": "stdout",
     "output_type": "stream",
     "text": [
      "Number of rows with '#VALUE!' in Full_date: 0\n",
      "(14379, 3)\n"
     ]
    }
   ],
   "source": [
    "# Find rows where Full_date contains the value \"#VALUE!\"\n",
    "invalid_rows = df[df['Date'] == \"#VALUE!\"]\n",
    "\n",
    "# Get the number of rows with the issue\n",
    "num_invalid_rows = len(invalid_rows)\n",
    "print(f\"Number of rows with '#VALUE!' in Full_date: {num_invalid_rows}\")\n",
    "\n",
    "df = df[df['Date'] != \"#VALUE!\"]\n",
    "print(df.shape)"
   ]
  },
  {
   "cell_type": "code",
   "execution_count": 10,
   "metadata": {},
   "outputs": [
    {
     "name": "stdout",
     "output_type": "stream",
     "text": [
      "Number of '-' values: 61\n"
     ]
    }
   ],
   "source": [
    "count_hyphen = (df['Hourly rainfall value'] == '-').sum()\n",
    "\n",
    "# Print the count\n",
    "print(f\"Number of '-' values: {count_hyphen}\")\n",
    "\n",
    "df['Hourly rainfall value'] = df['Hourly rainfall value'].replace('-', 0)\n"
   ]
  },
  {
   "cell_type": "code",
   "execution_count": 11,
   "metadata": {},
   "outputs": [
    {
     "name": "stdout",
     "output_type": "stream",
     "text": [
      "            Date  Hour Hourly rainfall value\n",
      "14369 2024-11-22     4                     0\n",
      "14370 2024-11-22     5                     0\n",
      "14371 2024-11-22     6                     0\n",
      "14372 2024-11-22     7                     0\n",
      "14373 2024-11-22     8                     0\n",
      "14374 2024-11-22     9                     0\n",
      "14375 2024-11-22    10                     0\n",
      "14376 2024-11-22    11                     0\n",
      "14377 2024-11-22    12                     0\n",
      "14378 2024-11-22    13                     0\n"
     ]
    }
   ],
   "source": [
    "# sort data based on date, hour and minute\n",
    "\n",
    "# Ensure the date column is in datetime format for correct sorting\n",
    "df['Date'] = pd.to_datetime(df['Date'], format='%Y-%m-%d')\n",
    "\n",
    "# Sort the data by Full_date, Hour, and Minute\n",
    "df_sorted = df.sort_values(by=['Date', 'Hour'], ascending=[True, True])\n",
    "\n",
    "# Reset index for a clean DataFrame\n",
    "df = df_sorted.reset_index(drop=True)\n",
    "\n",
    "print(df.tail(10))\n"
   ]
  },
  {
   "cell_type": "code",
   "execution_count": 12,
   "metadata": {},
   "outputs": [
    {
     "name": "stdout",
     "output_type": "stream",
     "text": [
      "           Date  Hour Hourly rainfall value\n",
      "0    2024-04-15     0                     0\n",
      "1    2024-04-15     1                     0\n",
      "2    2024-04-15     2                     0\n",
      "3    2024-04-15     3                     0\n",
      "4    2024-04-15     4                     0\n",
      "...         ...   ...                   ...\n",
      "5395 2024-11-25    19                     0\n",
      "5396 2024-11-25    20                     0\n",
      "5397 2024-11-25    21                     0\n",
      "5398 2024-11-25    22                     0\n",
      "5399 2024-11-25    23                     0\n",
      "\n",
      "[5400 rows x 3 columns]\n"
     ]
    }
   ],
   "source": [
    "# Ensure Date is in datetime format\n",
    "df['Date'] = pd.to_datetime(df['Date'])\n",
    "\n",
    "# Generate full range of dates (April to August)\n",
    "full_dates = pd.date_range(start='2024-04-15', end='2024-11-25', freq='D')\n",
    "\n",
    "# Generate all hours (0 to 23)\n",
    "hours = pd.DataFrame({'Hour': range(24)})\n",
    "\n",
    "# Create all combinations of dates and hours\n",
    "full_date_hour = pd.MultiIndex.from_product([full_dates, hours['Hour']], names=['Date', 'Hour']).to_frame(index=False)\n",
    "\n",
    "# Merge with existing data\n",
    "df_full = pd.merge(full_date_hour, df, on=['Date', 'Hour'], how='left')\n",
    "\n",
    "# Fill missing Hourly rainfall value with 0\n",
    "df_full['Hourly rainfall value'] = df_full['Hourly rainfall value'].fillna(0)\n",
    "\n",
    "# Print or save the final DataFrame\n",
    "print(df_full)"
   ]
  },
  {
   "cell_type": "code",
   "execution_count": 13,
   "metadata": {},
   "outputs": [
    {
     "name": "stdout",
     "output_type": "stream",
     "text": [
      "(5400, 3) shape after interpolation\n"
     ]
    }
   ],
   "source": [
    "# print(merged_df.head(25))\n",
    "print(df_full.shape,\"shape after interpolation\")\n",
    "\n",
    "df_full['DateTime'] = pd.to_datetime(df_full['Date'].dt.date.astype(str) + ' ' + df_full['Hour'].astype(str) + ':00')\n"
   ]
  },
  {
   "cell_type": "code",
   "execution_count": 15,
   "metadata": {},
   "outputs": [],
   "source": [
    "# Save the cleaned data back to a CSV file\n",
    "output_file_path = \"cleaned_sundarijal_rainfall_data_7_jan.csv\"  # Replace with desired output file path\n",
    "df_full.to_csv(output_file_path, index=False)"
   ]
  }
 ],
 "metadata": {
  "kernelspec": {
   "display_name": "spatial_simulation_env",
   "language": "python",
   "name": "python3"
  },
  "language_info": {
   "codemirror_mode": {
    "name": "ipython",
    "version": 3
   },
   "file_extension": ".py",
   "mimetype": "text/x-python",
   "name": "python",
   "nbconvert_exporter": "python",
   "pygments_lexer": "ipython3",
   "version": "3.11.10"
  }
 },
 "nbformat": 4,
 "nbformat_minor": 2
}
