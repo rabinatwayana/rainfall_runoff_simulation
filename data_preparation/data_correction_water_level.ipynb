{
 "cells": [
  {
   "cell_type": "code",
   "execution_count": 1,
   "metadata": {},
   "outputs": [],
   "source": [
    "# !pip install pandas\n",
    "\n",
    "import pandas as pd\n",
    "import numpy as np"
   ]
  },
  {
   "cell_type": "code",
   "execution_count": 2,
   "metadata": {},
   "outputs": [
    {
     "name": "stdout",
     "output_type": "stream",
     "text": [
      "   Full_date  Hour  Minute waterLevel\n",
      "0  26/4/2024  22.0    15.0      0.202\n",
      "1  26/4/2024  22.0    15.0      0.202\n",
      "2  26/4/2024  22.0    15.0      0.202\n",
      "3  27/4/2024  14.0     5.0      0.198\n",
      "4  27/4/2024  13.0    45.0       0.18\n",
      "5  27/4/2024  12.0    35.0      0.189\n",
      "6  27/4/2024  14.0    45.0      0.191\n",
      "7  27/4/2024  11.0    55.0      0.198\n",
      "8  27/4/2024  12.0    35.0      0.189\n",
      "9  27/4/2024  13.0    25.0      0.194\n",
      "(16333, 4)\n",
      "initial df shape :  (16333, 4)\n"
     ]
    }
   ],
   "source": [
    "# Load the CSV file\n",
    "file_path = \"HydroMet Data/FINAL/WaterLevelSundarijalFinal.csv\"  # Replace with the actual file path\n",
    "df = pd.read_csv(file_path)\n",
    "\n",
    "print(df.head(10))\n",
    "print(df.shape)\n",
    "print(\"initial df shape : \",df.shape)\n",
    "\n"
   ]
  },
  {
   "cell_type": "code",
   "execution_count": 3,
   "metadata": {},
   "outputs": [
    {
     "name": "stdout",
     "output_type": "stream",
     "text": [
      "Number of duplicate rows: 1978\n"
     ]
    }
   ],
   "source": [
    "# Count the number of duplicate rows\n",
    "num_duplicates = df.duplicated().sum()\n",
    "print(f\"Number of duplicate rows: {num_duplicates}\")"
   ]
  },
  {
   "cell_type": "code",
   "execution_count": 4,
   "metadata": {},
   "outputs": [
    {
     "name": "stdout",
     "output_type": "stream",
     "text": [
      "df shape after removing duplicates:  (14355, 4)\n",
      "    Full_date  Hour  Minute waterLevel\n",
      "0   26/4/2024  22.0    15.0      0.202\n",
      "3   27/4/2024  14.0     5.0      0.198\n",
      "4   27/4/2024  13.0    45.0       0.18\n",
      "5   27/4/2024  12.0    35.0      0.189\n",
      "6   27/4/2024  14.0    45.0      0.191\n",
      "7   27/4/2024  11.0    55.0      0.198\n",
      "9   27/4/2024  13.0    25.0      0.194\n",
      "10  27/4/2024  13.0    15.0      0.192\n",
      "11  27/4/2024  14.0    25.0      0.201\n",
      "12  28/4/2024  15.0    25.0      0.201\n"
     ]
    }
   ],
   "source": [
    "\n",
    "# Remove duplicate rows\n",
    "df = df.drop_duplicates()\n",
    "\n",
    "print(\"df shape after removing duplicates: \",df.shape)\n",
    "\n",
    "print(df.head(10))\n",
    "\n"
   ]
  },
  {
   "cell_type": "code",
   "execution_count": 5,
   "metadata": {},
   "outputs": [
    {
     "name": "stdout",
     "output_type": "stream",
     "text": [
      "Number of rows with '#VALUE!' in Full_date: 1\n",
      "(14354, 4)\n"
     ]
    }
   ],
   "source": [
    "# Find rows where Full_date contains the value \"#VALUE!\"\n",
    "invalid_rows = df[df['Full_date'] == \"#VALUE!\"]\n",
    "\n",
    "# Get the number of rows with the issue\n",
    "num_invalid_rows = len(invalid_rows)\n",
    "print(f\"Number of rows with '#VALUE!' in Full_date: {num_invalid_rows}\")\n",
    "\n",
    "df = df[df['Full_date'] != \"#VALUE!\"]\n",
    "print(df.shape)"
   ]
  },
  {
   "cell_type": "code",
   "execution_count": 6,
   "metadata": {},
   "outputs": [
    {
     "name": "stdout",
     "output_type": "stream",
     "text": [
      "    Full_date  Hour  Minute waterLevel\n",
      "0  2024-03-21   4.0    15.0      0.217\n",
      "1  2024-03-21   5.0    25.0      0.224\n",
      "2  2024-03-21   7.0    15.0      0.217\n",
      "3  2024-03-21   8.0     5.0      0.211\n",
      "4  2024-03-21   8.0    55.0      0.217\n",
      "..        ...   ...     ...        ...\n",
      "95 2024-03-22  17.0    55.0      0.205\n",
      "96 2024-03-22  18.0    15.0      0.201\n",
      "97 2024-03-22  18.0    25.0      0.206\n",
      "98 2024-03-22  18.0    55.0      0.212\n",
      "99 2024-03-22  19.0    15.0      0.217\n",
      "\n",
      "[100 rows x 4 columns]\n"
     ]
    }
   ],
   "source": [
    "# sort data based on date, hour and minute\n",
    "\n",
    "# Ensure the date column is in datetime format for correct sorting\n",
    "df['Full_date'] = pd.to_datetime(df['Full_date'], format='%d/%m/%Y')\n",
    "\n",
    "# Sort the data by Full_date, Hour, and Minute\n",
    "df = df.sort_values(by=['Full_date', 'Hour', 'Minute'], ascending=[True, True, True])\n",
    "\n",
    "# Reset index for a clean DataFrame\n",
    "df = df.reset_index(drop=True)\n",
    "\n",
    "print(df.head(100))\n"
   ]
  },
  {
   "cell_type": "code",
   "execution_count": 7,
   "metadata": {},
   "outputs": [
    {
     "name": "stdout",
     "output_type": "stream",
     "text": [
      "1373\n",
      "df shape after removing duplicates: (12981, 4)\n",
      "    Full_date  Hour  Minute waterLevel\n",
      "0  2024-03-21   4.0    15.0      0.217\n",
      "1  2024-03-21   5.0    25.0      0.224\n",
      "2  2024-03-21   7.0    15.0      0.217\n",
      "3  2024-03-21   8.0     5.0      0.211\n",
      "4  2024-03-21   8.0    55.0      0.217\n",
      "5  2024-03-21  10.0    15.0      0.218\n",
      "7  2024-03-21  11.0     5.0      0.219\n",
      "8  2024-03-21  11.0    25.0      0.216\n",
      "9  2024-03-21  11.0    55.0      0.224\n",
      "10 2024-03-21  12.0    15.0       0.22\n",
      "12 2024-03-21  12.0    55.0      0.223\n",
      "13 2024-03-21  13.0    25.0      0.221\n",
      "14 2024-03-21  13.0    45.0      0.222\n",
      "15 2024-03-21  14.0     5.0      0.227\n",
      "16 2024-03-21  14.0    25.0       0.22\n",
      "17 2024-03-21  14.0    55.0      0.224\n",
      "18 2024-03-21  15.0    25.0      0.218\n",
      "19 2024-03-21  15.0    45.0       0.22\n",
      "20 2024-03-21  16.0     5.0       0.22\n",
      "21 2024-03-21  16.0    55.0      0.297\n"
     ]
    }
   ],
   "source": [
    "# Check for duplicates based on 'Full_date', 'Hour', and 'waterLevel'\n",
    "duplicates = df[df.duplicated(subset=['Full_date', 'Hour', 'waterLevel'])]\n",
    "\n",
    "# Get the number of duplicate rows\n",
    "num_duplicates = len(duplicates)\n",
    "print(num_duplicates)\n",
    "df= df.drop_duplicates(subset=['Full_date', 'Hour', 'waterLevel'])\n",
    "\n",
    "print(\"df shape after removing duplicates:\", df.shape)\n",
    "print(df.head(20))"
   ]
  },
  {
   "cell_type": "code",
   "execution_count": 8,
   "metadata": {},
   "outputs": [
    {
     "name": "stdout",
     "output_type": "stream",
     "text": [
      "df shape after having 1 data per hour: (5074, 3)\n",
      "    Full_date  Hour  waterLevel\n",
      "0  2024-03-21   4.0    0.217000\n",
      "1  2024-03-21   5.0    0.224000\n",
      "2  2024-03-21   7.0    0.217000\n",
      "3  2024-03-21   8.0    0.214000\n",
      "4  2024-03-21  10.0    0.218000\n",
      "..        ...   ...         ...\n",
      "95 2024-03-25   5.0    0.228500\n",
      "96 2024-03-25   6.0    0.224500\n",
      "97 2024-03-25   7.0    0.216667\n",
      "98 2024-03-25   8.0    0.212500\n",
      "99 2024-03-25   9.0    0.212000\n",
      "\n",
      "[100 rows x 3 columns]\n"
     ]
    }
   ],
   "source": [
    "df['waterLevel'] = pd.to_numeric(df['waterLevel'], errors='coerce')\n",
    "df = df.groupby(['Full_date', 'Hour'], as_index=False).agg({'waterLevel': 'mean'})\n",
    "print(\"df shape after having 1 data per hour:\", df.shape)\n",
    "\n",
    "output_file_path = \"cleaned_file.csv\"  # Replace with desired output file path\n",
    "df.to_csv(\"aa.csv\", index=False)\n",
    "\n",
    "print(df.head(100))"
   ]
  },
  {
   "cell_type": "code",
   "execution_count": 9,
   "metadata": {},
   "outputs": [
    {
     "name": "stdout",
     "output_type": "stream",
     "text": [
      "    Full_date  Hour  waterLevel\n",
      "40 2024-03-22  22.0    0.230000\n",
      "41 2024-03-22  23.0    0.225500\n",
      "42 2024-03-23   0.0    0.224333\n",
      "43 2024-03-23   1.0    0.223000\n",
      "44 2024-03-23   2.0    0.219667\n",
      "45 2024-03-23   3.0    0.220500\n",
      "46 2024-03-23   4.0    0.220000\n",
      "47 2024-03-23   5.0    0.221000\n",
      "48 2024-03-23   6.0    0.221667\n",
      "49 2024-03-23   7.0    0.256000\n",
      "50 2024-03-23   8.0    0.276500\n",
      "51 2024-03-23   9.0    0.228333\n",
      "52 2024-03-23  10.0    0.219500\n",
      "53 2024-03-23  11.0    0.218333\n",
      "54 2024-03-23  12.0    0.217000\n",
      "55 2024-03-23  13.0    0.215500\n",
      "56 2024-03-23  14.0    0.214500\n",
      "57 2024-03-23  15.0    0.213000\n",
      "58 2024-03-23  16.0    0.213500\n",
      "59 2024-03-23  17.0    0.215000\n",
      "60 2024-03-23  18.0    0.214667\n",
      "61 2024-03-23  19.0    0.219000\n",
      "62 2024-03-23  20.0    0.223000\n",
      "63 2024-03-23  21.0    0.221500\n",
      "64 2024-03-23  22.0    0.221500\n",
      "65 2024-03-23  23.0    0.224000\n",
      "66 2024-03-24   0.0    0.221000\n",
      "67 2024-03-24   1.0    0.223500\n",
      "68 2024-03-24   2.0    0.219333\n",
      "69 2024-03-24   3.0    0.219333\n",
      "70 2024-03-24   4.0    0.219000\n",
      "71 2024-03-24   5.0    0.222000\n",
      "72 2024-03-24   6.0    0.226000\n",
      "73 2024-03-24   7.0    0.241333\n",
      "74 2024-03-24   8.0    0.218500\n",
      "75 2024-03-24   9.0    0.223333\n",
      "76 2024-03-24  10.0    0.222000\n",
      "77 2024-03-24  11.0    0.223333\n",
      "78 2024-03-24  12.0    0.224500\n",
      "79 2024-03-24  13.0    0.223667\n",
      "80 2024-03-24  14.0    0.226000\n",
      "81 2024-03-24  15.0    0.222667\n",
      "82 2024-03-24  16.0    0.220667\n",
      "83 2024-03-24  17.0    0.221500\n",
      "84 2024-03-24  18.0    0.218000\n",
      "85 2024-03-24  19.0    0.218500\n",
      "86 2024-03-24  20.0    0.218333\n",
      "87 2024-03-24  21.0    0.221000\n",
      "88 2024-03-24  22.0    0.226500\n",
      "89 2024-03-24  23.0    0.227000\n",
      "90 2024-03-25   0.0    0.225000\n",
      "91 2024-03-25   1.0    0.234000\n",
      "92 2024-03-25   2.0    0.226000\n",
      "93 2024-03-25   3.0    0.230333\n",
      "94 2024-03-25   4.0    0.228000\n",
      "95 2024-03-25   5.0    0.228500\n",
      "96 2024-03-25   6.0    0.224500\n",
      "97 2024-03-25   7.0    0.216667\n",
      "98 2024-03-25   8.0    0.212500\n",
      "99 2024-03-25   9.0    0.212000\n"
     ]
    }
   ],
   "source": [
    "# print(df.tail(50))\n",
    "\n",
    "subset_df = df.iloc[40:100]\n",
    "\n",
    "# Print the subset\n",
    "print(subset_df)"
   ]
  },
  {
   "cell_type": "code",
   "execution_count": 10,
   "metadata": {},
   "outputs": [],
   "source": [
    "# '2024-04-15'\n",
    "all_dates = pd.date_range(start='2024-04-15', end='2024-11-25', freq='D')\n",
    "# all_dates = pd.date_range(start='2024-03-22', end='2024-11-25', freq='D')\n",
    "\n",
    "all_hours = pd.DataFrame({\n",
    "    'Full_date': np.tile(all_dates, 24),\n",
    "    'Hour': np.repeat(np.arange(24), len(all_dates))\n",
    "})"
   ]
  },
  {
   "cell_type": "code",
   "execution_count": 11,
   "metadata": {},
   "outputs": [],
   "source": [
    "# Step 2: Merge the original data with the complete hours\n",
    "merged_df = pd.merge(all_hours, df, on=['Full_date', 'Hour'], how='left')\n",
    "\n",
    "merged_df['DateTime'] = pd.to_datetime(merged_df['Full_date'].dt.date.astype(str) + ' ' + merged_df['Hour'].astype(str) + ':00')\n",
    "\n",
    "merged_df['Full_datetime']=merged_df['DateTime']\n",
    "\n",
    "# Set the datetime column as index\n",
    "merged_df.set_index('DateTime', inplace=True)\n",
    "\n",
    "# Interpolate based on datetime index\n",
    "merged_df['waterLevel'] = merged_df['waterLevel'].interpolate(method='time').round(3)\n",
    "\n",
    "# Sort the data by Full_date, Hour, and Minute\n",
    "merged_df = merged_df.sort_values(by=['Full_date', 'Hour'], ascending=[True, True])\n",
    "\n",
    "# Reset index for a clean DataFrame\n",
    "merged_df = merged_df.reset_index(drop=True)\n"
   ]
  },
  {
   "cell_type": "code",
   "execution_count": 12,
   "metadata": {},
   "outputs": [
    {
     "name": "stdout",
     "output_type": "stream",
     "text": [
      "(5400, 4) shape after interpolation\n"
     ]
    }
   ],
   "source": [
    "# print(merged_df.head(25))\n",
    "print(merged_df.shape,\"shape after interpolation\")"
   ]
  },
  {
   "cell_type": "code",
   "execution_count": 13,
   "metadata": {},
   "outputs": [],
   "source": [
    "# Save the cleaned data back to a CSV file\n",
    "output_file_path = \"cleaned_water_level_data_14_dec.csv\"  # Replace with desired output file path\n",
    "merged_df.to_csv(output_file_path, index=False)"
   ]
  }
 ],
 "metadata": {
  "kernelspec": {
   "display_name": "spatial_simulation_env",
   "language": "python",
   "name": "python3"
  },
  "language_info": {
   "codemirror_mode": {
    "name": "ipython",
    "version": 3
   },
   "file_extension": ".py",
   "mimetype": "text/x-python",
   "name": "python",
   "nbconvert_exporter": "python",
   "pygments_lexer": "ipython3",
   "version": "3.11.10"
  }
 },
 "nbformat": 4,
 "nbformat_minor": 2
}
